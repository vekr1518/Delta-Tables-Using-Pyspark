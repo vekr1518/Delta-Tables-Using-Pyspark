{
 "cells": [
  {
   "cell_type": "code",
   "execution_count": 1,
   "metadata": {},
   "outputs": [],
   "source": [
    "import pyspark\n",
    "from delta import *\n"
   ]
  },
  {
   "cell_type": "code",
   "execution_count": 2,
   "metadata": {},
   "outputs": [],
   "source": [
    "builder=(pyspark.sql.SparkSession.builder.appName(\"Delta-table_External_Managed\")\n",
    "        .config(\"spark.sql.extensions\",\"io.delta.sql.DeltaSparkSessionExtension\")\n",
    "        .config(\"spark.sql.catalog.spark_catalog\",\"org.apache.spark.sql.delta.catalog.DeltaCatalog\")\n",
    "        )\n",
    "\n"
   ]
  },
  {
   "cell_type": "code",
   "execution_count": 3,
   "metadata": {},
   "outputs": [
    {
     "name": "stdout",
     "output_type": "stream",
     "text": [
      ":: loading settings :: url = jar:file:/Users/vk/Library/Python/3.9/lib/python/site-packages/pyspark/jars/ivy-2.5.1.jar!/org/apache/ivy/core/settings/ivysettings.xml\n"
     ]
    },
    {
     "name": "stderr",
     "output_type": "stream",
     "text": [
      "Ivy Default Cache set to: /Users/vk/.ivy2/cache\n",
      "The jars for the packages stored in: /Users/vk/.ivy2/jars\n",
      "io.delta#delta-core_2.12 added as a dependency\n",
      ":: resolving dependencies :: org.apache.spark#spark-submit-parent-b00f764c-7289-4ac1-966b-5815de6ae343;1.0\n",
      "\tconfs: [default]\n",
      "\tfound io.delta#delta-core_2.12;2.2.0 in central\n",
      "\tfound io.delta#delta-storage;2.2.0 in central\n",
      "\tfound org.antlr#antlr4-runtime;4.8 in central\n",
      ":: resolution report :: resolve 89ms :: artifacts dl 2ms\n",
      "\t:: modules in use:\n",
      "\tio.delta#delta-core_2.12;2.2.0 from central in [default]\n",
      "\tio.delta#delta-storage;2.2.0 from central in [default]\n",
      "\torg.antlr#antlr4-runtime;4.8 from central in [default]\n",
      "\t---------------------------------------------------------------------\n",
      "\t|                  |            modules            ||   artifacts   |\n",
      "\t|       conf       | number| search|dwnlded|evicted|| number|dwnlded|\n",
      "\t---------------------------------------------------------------------\n",
      "\t|      default     |   3   |   0   |   0   |   0   ||   3   |   0   |\n",
      "\t---------------------------------------------------------------------\n",
      ":: retrieving :: org.apache.spark#spark-submit-parent-b00f764c-7289-4ac1-966b-5815de6ae343\n",
      "\tconfs: [default]\n",
      "\t0 artifacts copied, 3 already retrieved (0kB/2ms)\n"
     ]
    },
    {
     "name": "stdout",
     "output_type": "stream",
     "text": [
      "23/04/08 20:33:47 WARN NativeCodeLoader: Unable to load native-hadoop library for your platform... using builtin-java classes where applicable\n"
     ]
    },
    {
     "name": "stderr",
     "output_type": "stream",
     "text": [
      "Setting default log level to \"WARN\".\n",
      "To adjust logging level use sc.setLogLevel(newLevel). For SparkR, use setLogLevel(newLevel).\n"
     ]
    }
   ],
   "source": [
    "spark=configure_spark_with_delta_pip(builder).getOrCreate()"
   ]
  },
  {
   "attachments": {},
   "cell_type": "markdown",
   "metadata": {},
   "source": [
    "# CREATE DELTA LAKE FILE WITH SAVE"
   ]
  },
  {
   "cell_type": "code",
   "execution_count": 30,
   "metadata": {},
   "outputs": [],
   "source": [
    "\n",
    "columns=[\"Name\",\"Country\"]\n",
    "data=[(\"QAZ\",\"Singapore\"),(\"WSX\",\"India\"),(\"EDC\",\"United States\")]\n",
    "rdd=spark.sparkContext.parallelize(data)\n",
    "df=rdd.toDF(columns)"
   ]
  },
  {
   "cell_type": "code",
   "execution_count": 46,
   "metadata": {},
   "outputs": [],
   "source": [
    "#Save as delta file - Test purpose\n",
    "df.write.format(\"delta\").save(\"/tmp/my_first_delta_file\")"
   ]
  },
  {
   "cell_type": "code",
   "execution_count": 47,
   "metadata": {},
   "outputs": [
    {
     "name": "stdout",
     "output_type": "stream",
     "text": [
      "\u001b[34m_delta_log\u001b[m\u001b[m/\n",
      "part-00000-ce90d84e-41e5-4841-a404-954c132d1f2d-c000.snappy.parquet\n",
      "part-00002-b3f836ee-31a3-4fde-a7d1-71fafbc0bf32-c000.snappy.parquet\n",
      "part-00005-6f4aa62b-deac-4d4d-a706-e2f12e2c63b5-c000.snappy.parquet\n",
      "part-00007-04ee1879-8034-4fad-81a8-f7c5bb829f44-c000.snappy.parquet\n"
     ]
    }
   ],
   "source": [
    "%ls \"/tmp/my_first_delta_file/\""
   ]
  },
  {
   "cell_type": "code",
   "execution_count": 48,
   "metadata": {},
   "outputs": [
    {
     "name": "stdout",
     "output_type": "stream",
     "text": [
      "{\"commitInfo\":{\"timestamp\":1680962086347,\"operation\":\"WRITE\",\"operationParameters\":{\"mode\":\"ErrorIfExists\",\"partitionBy\":\"[]\"},\"isolationLevel\":\"Serializable\",\"isBlindAppend\":true,\"operationMetrics\":{\"numFiles\":\"4\",\"numOutputRows\":\"3\",\"numOutputBytes\":\"2614\"},\"engineInfo\":\"Apache-Spark/3.3.2 Delta-Lake/2.2.0\",\"txnId\":\"4f832f7b-bb53-445e-a810-bbb3a1c6d7f7\"}}\n",
      "{\"protocol\":{\"minReaderVersion\":1,\"minWriterVersion\":2}}\n",
      "{\"metaData\":{\"id\":\"3cb3bc92-1245-4641-8bcf-68cb9d6b6314\",\"format\":{\"provider\":\"parquet\",\"options\":{}},\"schemaString\":\"{\\\"type\\\":\\\"struct\\\",\\\"fields\\\":[{\\\"name\\\":\\\"Name\\\",\\\"type\\\":\\\"string\\\",\\\"nullable\\\":true,\\\"metadata\\\":{}},{\\\"name\\\":\\\"Country\\\",\\\"type\\\":\\\"string\\\",\\\"nullable\\\":true,\\\"metadata\\\":{}}]}\",\"partitionColumns\":[],\"configuration\":{},\"createdTime\":1680962086083}}\n",
      "{\"add\":{\"path\":\"part-00002-b3f836ee-31a3-4fde-a7d1-71fafbc0bf32-c000.snappy.parquet\",\"partitionValues\":{},\"size\":739,\"modificationTime\":1680962086344,\"dataChange\":true,\"stats\":\"{\\\"numRecords\\\":1,\\\"minValues\\\":{\\\"Name\\\":\\\"QAZ\\\",\\\"Country\\\":\\\"Singapore\\\"},\\\"maxValues\\\":{\\\"Name\\\":\\\"QAZ\\\",\\\"Country\\\":\\\"Singapore\\\"},\\\"nullCount\\\":{\\\"Name\\\":0,\\\"Country\\\":0}}\"}}\n",
      "{\"add\":{\"path\":\"part-00005-6f4aa62b-deac-4d4d-a706-e2f12e2c63b5-c000.snappy.parquet\",\"partitionValues\":{},\"size\":711,\"modificationTime\":1680962086344,\"dataChange\":true,\"stats\":\"{\\\"numRecords\\\":1,\\\"minValues\\\":{\\\"Name\\\":\\\"WSX\\\",\\\"Country\\\":\\\"India\\\"},\\\"maxValues\\\":{\\\"Name\\\":\\\"WSX\\\",\\\"Country\\\":\\\"India\\\"},\\\"nullCount\\\":{\\\"Name\\\":0,\\\"Country\\\":0}}\"}}\n",
      "{\"add\":{\"path\":\"part-00007-04ee1879-8034-4fad-81a8-f7c5bb829f44-c000.snappy.parquet\",\"partitionValues\":{},\"size\":767,\"modificationTime\":1680962086342,\"dataChange\":true,\"stats\":\"{\\\"numRecords\\\":1,\\\"minValues\\\":{\\\"Name\\\":\\\"EDC\\\",\\\"Country\\\":\\\"United States\\\"},\\\"maxValues\\\":{\\\"Name\\\":\\\"EDC\\\",\\\"Country\\\":\\\"United States\\\"},\\\"nullCount\\\":{\\\"Name\\\":0,\\\"Country\\\":0}}\"}}\n"
     ]
    }
   ],
   "source": [
    "%cat \"/tmp/my_first_delta_file/_delta_log/00000000000000000000.json\""
   ]
  },
  {
   "cell_type": "code",
   "execution_count": 51,
   "metadata": {},
   "outputs": [
    {
     "name": "stdout",
     "output_type": "stream",
     "text": [
      "+----+-------------+\n",
      "|Name|      Country|\n",
      "+----+-------------+\n",
      "| EDC|United States|\n",
      "| QAZ|    Singapore|\n",
      "| WSX|        India|\n",
      "+----+-------------+\n",
      "\n"
     ]
    }
   ],
   "source": [
    "spark.read.format(\"delta\").load(\"/tmp/my_first_delta_file/\").show()"
   ]
  },
  {
   "cell_type": "code",
   "execution_count": 52,
   "metadata": {},
   "outputs": [],
   "source": [
    "df.createOrReplaceTempView(\"Delta_table_External_Managed\")"
   ]
  },
  {
   "cell_type": "code",
   "execution_count": 54,
   "metadata": {},
   "outputs": [
    {
     "name": "stdout",
     "output_type": "stream",
     "text": [
      "+------+----+------------------------------------+-----------+-------------------------------------------------------------------------------+-----------------------+------------+----------------+--------+-----------+----------+----------------+----------------+\n",
      "|format|id  |name                                |description|location                                                                       |createdAt              |lastModified|partitionColumns|numFiles|sizeInBytes|properties|minReaderVersion|minWriterVersion|\n",
      "+------+----+------------------------------------+-----------+-------------------------------------------------------------------------------+-----------------------+------------+----------------+--------+-----------+----------+----------------+----------------+\n",
      "|delta |null|default.delta_table_external_managed|           |file:/Users/vk/Documents/Deltalake/spark-warehouse/delta_table_external_managed|2023-04-08 21:41:33.194|null        |[]              |null    |null       |{}        |null            |null            |\n",
      "+------+----+------------------------------------+-----------+-------------------------------------------------------------------------------+-----------------------+------------+----------------+--------+-----------+----------+----------------+----------------+\n",
      "\n"
     ]
    }
   ],
   "source": [
    "spark.sql(\"DESCRIBE DETAIL Delta_table_External_Managed\").show(truncate=False)"
   ]
  },
  {
   "cell_type": "code",
   "execution_count": 56,
   "metadata": {},
   "outputs": [
    {
     "name": "stdout",
     "output_type": "stream",
     "text": [
      "+--------+---------+-------+\n",
      "|col_name|data_type|comment|\n",
      "+--------+---------+-------+\n",
      "|    Name|   string|   null|\n",
      "| Country|   string|   null|\n",
      "+--------+---------+-------+\n",
      "\n"
     ]
    }
   ],
   "source": [
    "spark.sql(\"DESCRIBE TABLE EXTENDED Delta_table_External_Managed\").show()"
   ]
  },
  {
   "attachments": {},
   "cell_type": "markdown",
   "metadata": {},
   "source": [
    "# CREATE EXTERNAL DELTA LAKE TABLE"
   ]
  },
  {
   "cell_type": "markdown",
   "metadata": {},
   "source": []
  },
  {
   "cell_type": "code",
   "execution_count": 57,
   "metadata": {},
   "outputs": [],
   "source": [
    "df.write.format('delta').option(\"path\",\"/tmp/external_table\").saveAsTable(\"default.my_external_table\")"
   ]
  },
  {
   "cell_type": "code",
   "execution_count": 58,
   "metadata": {},
   "outputs": [
    {
     "name": "stdout",
     "output_type": "stream",
     "text": [
      "+------+------------------------------------+-------------------------+-----------+------------------------+-----------------------+-----------------------+----------------+--------+-----------+----------+----------------+----------------+\n",
      "|format|id                                  |name                     |description|location                |createdAt              |lastModified           |partitionColumns|numFiles|sizeInBytes|properties|minReaderVersion|minWriterVersion|\n",
      "+------+------------------------------------+-------------------------+-----------+------------------------+-----------------------+-----------------------+----------------+--------+-----------+----------+----------------+----------------+\n",
      "|delta |9b83b2f4-4849-43a7-94cb-deaea4e8d953|default.my_external_table|null       |file:/tmp/external_table|2023-04-08 22:13:48.159|2023-04-08 22:13:48.424|[]              |3       |2217       |{}        |1               |2               |\n",
      "+------+------------------------------------+-------------------------+-----------+------------------------+-----------------------+-----------------------+----------------+--------+-----------+----------+----------------+----------------+\n",
      "\n"
     ]
    }
   ],
   "source": [
    "spark.sql(\"DESCRIBE DETAIL my_external_table\").show(truncate=False)"
   ]
  },
  {
   "cell_type": "code",
   "execution_count": 59,
   "metadata": {},
   "outputs": [
    {
     "name": "stdout",
     "output_type": "stream",
     "text": [
      "+----+-------------+\n",
      "|Name|      Country|\n",
      "+----+-------------+\n",
      "| EDC|United States|\n",
      "| QAZ|    Singapore|\n",
      "| WSX|        India|\n",
      "+----+-------------+\n",
      "\n"
     ]
    }
   ],
   "source": [
    "spark.sql(\"select * from default.my_external_table\").show()"
   ]
  },
  {
   "cell_type": "code",
   "execution_count": 60,
   "metadata": {},
   "outputs": [
    {
     "name": "stdout",
     "output_type": "stream",
     "text": [
      "+----------------------------+---------------------------------------------------+-------+\n",
      "|col_name                    |data_type                                          |comment|\n",
      "+----------------------------+---------------------------------------------------+-------+\n",
      "|Name                        |string                                             |       |\n",
      "|Country                     |string                                             |       |\n",
      "|                            |                                                   |       |\n",
      "|# Partitioning              |                                                   |       |\n",
      "|Not partitioned             |                                                   |       |\n",
      "|                            |                                                   |       |\n",
      "|# Detailed Table Information|                                                   |       |\n",
      "|Name                        |default.my_external_table                          |       |\n",
      "|Location                    |file:/tmp/external_table                           |       |\n",
      "|Provider                    |delta                                              |       |\n",
      "|External                    |true                                               |       |\n",
      "|Table Properties            |[delta.minReaderVersion=1,delta.minWriterVersion=2]|       |\n",
      "+----------------------------+---------------------------------------------------+-------+\n",
      "\n"
     ]
    }
   ],
   "source": [
    "spark.sql(\"DESCRIBE TABLE EXTENDED my_external_table\").show(truncate=False)"
   ]
  },
  {
   "attachments": {},
   "cell_type": "markdown",
   "metadata": {},
   "source": [
    "# CREATE DELTA LAKE MANAGED TABLE"
   ]
  },
  {
   "cell_type": "code",
   "execution_count": 61,
   "metadata": {},
   "outputs": [],
   "source": [
    "df.write.format(\"delta\").mode(\"overwrite\").saveAsTable(\"delta_lake_managed_table\")"
   ]
  },
  {
   "cell_type": "code",
   "execution_count": 63,
   "metadata": {},
   "outputs": [
    {
     "name": "stdout",
     "output_type": "stream",
     "text": [
      "+----+-------------+\n",
      "|Name|Country      |\n",
      "+----+-------------+\n",
      "|EDC |United States|\n",
      "|QAZ |Singapore    |\n",
      "|WSX |India        |\n",
      "+----+-------------+\n",
      "\n"
     ]
    }
   ],
   "source": [
    "spark.table(tableName=\"delta_lake_managed_table\").show(truncate=False)"
   ]
  },
  {
   "cell_type": "code",
   "execution_count": 64,
   "metadata": {},
   "outputs": [
    {
     "name": "stdout",
     "output_type": "stream",
     "text": [
      "\u001b[34m_delta_log\u001b[m\u001b[m/\n",
      "part-00000-f34aa72e-6a89-4529-ad59-dc77903b7960-c000.snappy.parquet\n",
      "part-00002-e428506b-ae46-42ea-9bd0-9874dbe4bc0b-c000.snappy.parquet\n",
      "part-00005-1a1c49ee-28bb-4472-9c73-3570ad97408e-c000.snappy.parquet\n",
      "part-00007-f828fd8a-2976-4a76-87ad-6fc03dac803f-c000.snappy.parquet\n"
     ]
    }
   ],
   "source": [
    "%ls \"spark-warehouse/delta_lake_managed_table/\"\n"
   ]
  },
  {
   "cell_type": "code",
   "execution_count": 65,
   "metadata": {},
   "outputs": [
    {
     "name": "stdout",
     "output_type": "stream",
     "text": [
      "+----------------------------+---------------------------------------------------------------------------+-------+\n",
      "|col_name                    |data_type                                                                  |comment|\n",
      "+----------------------------+---------------------------------------------------------------------------+-------+\n",
      "|Name                        |string                                                                     |       |\n",
      "|Country                     |string                                                                     |       |\n",
      "|                            |                                                                           |       |\n",
      "|# Partitioning              |                                                                           |       |\n",
      "|Not partitioned             |                                                                           |       |\n",
      "|                            |                                                                           |       |\n",
      "|# Detailed Table Information|                                                                           |       |\n",
      "|Name                        |default.delta_lake_managed_table                                           |       |\n",
      "|Location                    |file:/Users/vk/Documents/Deltalake/spark-warehouse/delta_lake_managed_table|       |\n",
      "|Provider                    |delta                                                                      |       |\n",
      "|Table Properties            |[delta.minReaderVersion=1,delta.minWriterVersion=2]                        |       |\n",
      "+----------------------------+---------------------------------------------------------------------------+-------+\n",
      "\n"
     ]
    }
   ],
   "source": [
    "spark.sql(\"DESCRIBE TABLE EXTENDED delta_lake_managed_table\").show(truncate=False)"
   ]
  }
 ],
 "metadata": {
  "kernelspec": {
   "display_name": "Python 3",
   "language": "python",
   "name": "python3"
  },
  "language_info": {
   "codemirror_mode": {
    "name": "ipython",
    "version": 3
   },
   "file_extension": ".py",
   "mimetype": "text/x-python",
   "name": "python",
   "nbconvert_exporter": "python",
   "pygments_lexer": "ipython3",
   "version": "3.9.6"
  },
  "orig_nbformat": 4
 },
 "nbformat": 4,
 "nbformat_minor": 2
}
