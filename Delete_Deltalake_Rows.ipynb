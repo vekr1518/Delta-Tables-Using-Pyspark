{
 "cells": [
  {
   "cell_type": "code",
   "execution_count": 4,
   "metadata": {},
   "outputs": [],
   "source": [
    "import pyspark\n",
    "from delta import *"
   ]
  },
  {
   "cell_type": "code",
   "execution_count": 5,
   "metadata": {},
   "outputs": [],
   "source": [
    "builder=(pyspark.sql.SparkSession.builder.appName(\"Delete_Delta_Lake_Table\")\n",
    "        .config(\"spark.sql.extensions\",\"io.delta.sql.DeltaSparkSessionExtension\")\n",
    "        .config(\"spark.sql.catalog.spark_catalog\",\"org.apache.spark.sql.delta.catalog.DeltaCatalog\")\n",
    "        )"
   ]
  },
  {
   "cell_type": "code",
   "execution_count": 6,
   "metadata": {},
   "outputs": [
    {
     "name": "stdout",
     "output_type": "stream",
     "text": [
      ":: loading settings :: url = jar:file:/Users/vk/Library/Python/3.9/lib/python/site-packages/pyspark/jars/ivy-2.5.1.jar!/org/apache/ivy/core/settings/ivysettings.xml\n"
     ]
    },
    {
     "name": "stderr",
     "output_type": "stream",
     "text": [
      "Ivy Default Cache set to: /Users/vk/.ivy2/cache\n",
      "The jars for the packages stored in: /Users/vk/.ivy2/jars\n",
      "io.delta#delta-core_2.12 added as a dependency\n",
      ":: resolving dependencies :: org.apache.spark#spark-submit-parent-6ed8310b-be92-4876-8248-795aa80e70b1;1.0\n",
      "\tconfs: [default]\n",
      "\tfound io.delta#delta-core_2.12;2.2.0 in central\n",
      "\tfound io.delta#delta-storage;2.2.0 in central\n",
      "\tfound org.antlr#antlr4-runtime;4.8 in central\n",
      ":: resolution report :: resolve 87ms :: artifacts dl 3ms\n",
      "\t:: modules in use:\n",
      "\tio.delta#delta-core_2.12;2.2.0 from central in [default]\n",
      "\tio.delta#delta-storage;2.2.0 from central in [default]\n",
      "\torg.antlr#antlr4-runtime;4.8 from central in [default]\n",
      "\t---------------------------------------------------------------------\n",
      "\t|                  |            modules            ||   artifacts   |\n",
      "\t|       conf       | number| search|dwnlded|evicted|| number|dwnlded|\n",
      "\t---------------------------------------------------------------------\n",
      "\t|      default     |   3   |   0   |   0   |   0   ||   3   |   0   |\n",
      "\t---------------------------------------------------------------------\n",
      ":: retrieving :: org.apache.spark#spark-submit-parent-6ed8310b-be92-4876-8248-795aa80e70b1\n",
      "\tconfs: [default]\n",
      "\t0 artifacts copied, 3 already retrieved (0kB/2ms)\n"
     ]
    },
    {
     "name": "stdout",
     "output_type": "stream",
     "text": [
      "23/04/08 22:59:46 WARN NativeCodeLoader: Unable to load native-hadoop library for your platform... using builtin-java classes where applicable\n"
     ]
    },
    {
     "name": "stderr",
     "output_type": "stream",
     "text": [
      "Setting default log level to \"WARN\".\n",
      "To adjust logging level use sc.setLogLevel(newLevel). For SparkR, use setLogLevel(newLevel).\n"
     ]
    }
   ],
   "source": [
    "spark=configure_spark_with_delta_pip(builder).getOrCreate()"
   ]
  },
  {
   "cell_type": "code",
   "execution_count": 7,
   "metadata": {},
   "outputs": [],
   "source": [
    "df = spark.createDataFrame([(\"QAZ\",1),(\"WSX\",2),(\"EDC\",3),(\"RFV\",4)]).toDF(\"Name\",\"Age\")"
   ]
  },
  {
   "cell_type": "code",
   "execution_count": 8,
   "metadata": {},
   "outputs": [
    {
     "data": {
      "text/plain": [
       "8"
      ]
     },
     "execution_count": 8,
     "metadata": {},
     "output_type": "execute_result"
    }
   ],
   "source": [
    "df.rdd.getNumPartitions()"
   ]
  },
  {
   "cell_type": "code",
   "execution_count": 15,
   "metadata": {},
   "outputs": [],
   "source": [
    "df.write.format(\"delta\").mode(\"overwrite\").save(\"/tmp/deltatable1\")"
   ]
  },
  {
   "cell_type": "code",
   "execution_count": 16,
   "metadata": {},
   "outputs": [
    {
     "name": "stdout",
     "output_type": "stream",
     "text": [
      "+----+---+\n",
      "|Name|Age|\n",
      "+----+---+\n",
      "| QAZ|  1|\n",
      "| WSX|  2|\n",
      "| EDC|  3|\n",
      "| RFV|  4|\n",
      "+----+---+\n",
      "\n"
     ]
    }
   ],
   "source": [
    "spark.read.format(\"delta\").load(\"/tmp/deltatable1/\").show()"
   ]
  },
  {
   "cell_type": "code",
   "execution_count": 17,
   "metadata": {},
   "outputs": [
    {
     "name": "stdout",
     "output_type": "stream",
     "text": [
      "{\"commitInfo\":{\"timestamp\":1680966230813,\"operation\":\"WRITE\",\"operationParameters\":{\"mode\":\"Overwrite\",\"partitionBy\":\"[]\"},\"isolationLevel\":\"Serializable\",\"isBlindAppend\":false,\"operationMetrics\":{\"numFiles\":\"5\",\"numOutputRows\":\"4\",\"numOutputBytes\":\"3213\"},\"engineInfo\":\"Apache-Spark/3.3.2 Delta-Lake/2.2.0\",\"txnId\":\"cd4e7509-2de6-4fdc-9b53-6199fd72c5c0\"}}\n",
      "{\"protocol\":{\"minReaderVersion\":1,\"minWriterVersion\":2}}\n",
      "{\"metaData\":{\"id\":\"7f108376-f032-4ccf-ba41-a05c60365667\",\"format\":{\"provider\":\"parquet\",\"options\":{}},\"schemaString\":\"{\\\"type\\\":\\\"struct\\\",\\\"fields\\\":[{\\\"name\\\":\\\"Name\\\",\\\"type\\\":\\\"string\\\",\\\"nullable\\\":true,\\\"metadata\\\":{}},{\\\"name\\\":\\\"Age\\\",\\\"type\\\":\\\"long\\\",\\\"nullable\\\":true,\\\"metadata\\\":{}}]}\",\"partitionColumns\":[],\"configuration\":{},\"createdTime\":1680966230511}}\n",
      "{\"add\":{\"path\":\"part-00001-75678ede-91ec-4361-b4df-9170ffd6a704-c000.snappy.parquet\",\"partitionValues\":{},\"size\":708,\"modificationTime\":1680966230720,\"dataChange\":true,\"stats\":\"{\\\"numRecords\\\":1,\\\"minValues\\\":{\\\"Name\\\":\\\"QAZ\\\",\\\"Age\\\":1},\\\"maxValues\\\":{\\\"Name\\\":\\\"QAZ\\\",\\\"Age\\\":1},\\\"nullCount\\\":{\\\"Name\\\":0,\\\"Age\\\":0}}\"}}\n",
      "{\"add\":{\"path\":\"part-00003-8168fccb-f279-4439-a386-efa20a3bfb80-c000.snappy.parquet\",\"partitionValues\":{},\"size\":708,\"modificationTime\":1680966230725,\"dataChange\":true,\"stats\":\"{\\\"numRecords\\\":1,\\\"minValues\\\":{\\\"Name\\\":\\\"WSX\\\",\\\"Age\\\":2},\\\"maxValues\\\":{\\\"Name\\\":\\\"WSX\\\",\\\"Age\\\":2},\\\"nullCount\\\":{\\\"Name\\\":0,\\\"Age\\\":0}}\"}}\n",
      "{\"add\":{\"path\":\"part-00005-0c5c2204-9861-4039-92b7-4208c2894489-c000.snappy.parquet\",\"partitionValues\":{},\"size\":708,\"modificationTime\":1680966230721,\"dataChange\":true,\"stats\":\"{\\\"numRecords\\\":1,\\\"minValues\\\":{\\\"Name\\\":\\\"EDC\\\",\\\"Age\\\":3},\\\"maxValues\\\":{\\\"Name\\\":\\\"EDC\\\",\\\"Age\\\":3},\\\"nullCount\\\":{\\\"Name\\\":0,\\\"Age\\\":0}}\"}}\n",
      "{\"add\":{\"path\":\"part-00007-b98a9ae6-44e9-45bd-ba6e-9c9f284cb341-c000.snappy.parquet\",\"partitionValues\":{},\"size\":708,\"modificationTime\":1680966230721,\"dataChange\":true,\"stats\":\"{\\\"numRecords\\\":1,\\\"minValues\\\":{\\\"Name\\\":\\\"RFV\\\",\\\"Age\\\":4},\\\"maxValues\\\":{\\\"Name\\\":\\\"RFV\\\",\\\"Age\\\":4},\\\"nullCount\\\":{\\\"Name\\\":0,\\\"Age\\\":0}}\"}}\n"
     ]
    }
   ],
   "source": [
    "%cat \"/tmp/deltatable1/_delta_log/00000000000000000000.json\""
   ]
  },
  {
   "cell_type": "code",
   "execution_count": 18,
   "metadata": {},
   "outputs": [],
   "source": [
    "import pyarrow.parquet as pq\n"
   ]
  },
  {
   "cell_type": "code",
   "execution_count": 19,
   "metadata": {},
   "outputs": [],
   "source": [
    "parquet_file = pq.ParquetFile(\"/tmp/deltatable1/part-00000-a7aaac08-9f9a-4d44-858b-581f2d98f3f0-c000.snappy.parquet\")"
   ]
  },
  {
   "cell_type": "code",
   "execution_count": 20,
   "metadata": {},
   "outputs": [
    {
     "data": {
      "text/plain": [
       "<pyarrow._parquet.ParquetSchema object at 0x123338680>\n",
       "required group field_id=-1 spark_schema {\n",
       "  optional binary field_id=-1 Name (String);\n",
       "  optional int64 field_id=-1 Age;\n",
       "}"
      ]
     },
     "execution_count": 20,
     "metadata": {},
     "output_type": "execute_result"
    }
   ],
   "source": [
    "parquet_file.schema"
   ]
  },
  {
   "cell_type": "code",
   "execution_count": 21,
   "metadata": {},
   "outputs": [],
   "source": [
    "df1=spark.createDataFrame([(\"RFV\",5),(\"TGB\",6)]).toDF(\"Name\",\"Age\")"
   ]
  },
  {
   "cell_type": "code",
   "execution_count": 24,
   "metadata": {},
   "outputs": [],
   "source": [
    "df1.write.format(\"delta\").mode(\"append\").save(\"/tmp/deltatable1\")"
   ]
  },
  {
   "cell_type": "code",
   "execution_count": 25,
   "metadata": {},
   "outputs": [
    {
     "name": "stdout",
     "output_type": "stream",
     "text": [
      "+----+---+\n",
      "|Name|Age|\n",
      "+----+---+\n",
      "| QAZ|  1|\n",
      "| WSX|  2|\n",
      "| TGB|  6|\n",
      "| EDC|  3|\n",
      "| RFV|  5|\n",
      "| RFV|  4|\n",
      "+----+---+\n",
      "\n"
     ]
    }
   ],
   "source": [
    "spark.read.format(\"delta\").load(\"/tmp/deltatable1/\").show()"
   ]
  },
  {
   "cell_type": "code",
   "execution_count": 54,
   "metadata": {},
   "outputs": [
    {
     "name": "stdout",
     "output_type": "stream",
     "text": [
      "{\"commitInfo\":{\"timestamp\":1680966751885,\"operation\":\"WRITE\",\"operationParameters\":{\"mode\":\"Append\",\"partitionBy\":\"[]\"},\"readVersion\":0,\"isolationLevel\":\"Serializable\",\"isBlindAppend\":true,\"operationMetrics\":{\"numFiles\":\"3\",\"numOutputRows\":\"2\",\"numOutputBytes\":\"1797\"},\"engineInfo\":\"Apache-Spark/3.3.2 Delta-Lake/2.2.0\",\"txnId\":\"0e6c15eb-ad67-469d-a53c-eb841e39b365\"}}\n",
      "{\"add\":{\"path\":\"part-00003-189fec81-ca42-43cb-84ad-fb950110bf35-c000.snappy.parquet\",\"partitionValues\":{},\"size\":708,\"modificationTime\":1680966751864,\"dataChange\":true,\"stats\":\"{\\\"numRecords\\\":1,\\\"minValues\\\":{\\\"Name\\\":\\\"RFV\\\",\\\"Age\\\":5},\\\"maxValues\\\":{\\\"Name\\\":\\\"RFV\\\",\\\"Age\\\":5},\\\"nullCount\\\":{\\\"Name\\\":0,\\\"Age\\\":0}}\"}}\n",
      "{\"add\":{\"path\":\"part-00007-e6fcc47a-f486-440b-a6f4-431b13203703-c000.snappy.parquet\",\"partitionValues\":{},\"size\":708,\"modificationTime\":1680966751880,\"dataChange\":true,\"stats\":\"{\\\"numRecords\\\":1,\\\"minValues\\\":{\\\"Name\\\":\\\"TGB\\\",\\\"Age\\\":6},\\\"maxValues\\\":{\\\"Name\\\":\\\"TGB\\\",\\\"Age\\\":6},\\\"nullCount\\\":{\\\"Name\\\":0,\\\"Age\\\":0}}\"}}\n"
     ]
    }
   ],
   "source": [
    "%cat \"/tmp/deltatable1/_delta_log/00000000000000000001.json\""
   ]
  },
  {
   "attachments": {},
   "cell_type": "markdown",
   "metadata": {},
   "source": [
    "# DELETE ROWS WHERE ARE GREATER THAN 5"
   ]
  },
  {
   "cell_type": "code",
   "execution_count": 55,
   "metadata": {},
   "outputs": [],
   "source": [
    "import delta\n",
    "import pyspark.sql.functions as f"
   ]
  },
  {
   "cell_type": "code",
   "execution_count": 56,
   "metadata": {},
   "outputs": [],
   "source": [
    "dt = delta.DeltaTable.forPath(spark,\"/tmp/deltatable1/\")\n",
    "dt.delete(f.column(\"Age\") > 5)"
   ]
  },
  {
   "cell_type": "code",
   "execution_count": 57,
   "metadata": {},
   "outputs": [
    {
     "name": "stdout",
     "output_type": "stream",
     "text": [
      "+----+---+\n",
      "|Name|Age|\n",
      "+----+---+\n",
      "| QAZ|  1|\n",
      "| WSX|  2|\n",
      "| EDC|  3|\n",
      "| RFV|  5|\n",
      "| RFV|  4|\n",
      "+----+---+\n",
      "\n"
     ]
    }
   ],
   "source": [
    "spark.read.format(\"delta\").load(\"/tmp/deltatable1/\").show()"
   ]
  },
  {
   "cell_type": "code",
   "execution_count": 59,
   "metadata": {},
   "outputs": [
    {
     "name": "stdout",
     "output_type": "stream",
     "text": [
      "total 24\n",
      "-rw-r--r--@ 1 vk  wheel  2072 Apr  8 23:03 00000000000000000000.json\n",
      "-rw-r--r--@ 1 vk  wheel  1013 Apr  8 23:12 00000000000000000001.json\n",
      "-rw-r--r--@ 1 vk  wheel   684 Apr  8 23:28 00000000000000000002.json\n"
     ]
    }
   ],
   "source": [
    "%ls -lrt \"/tmp/deltatable1/_delta_log/\""
   ]
  },
  {
   "cell_type": "code",
   "execution_count": 60,
   "metadata": {},
   "outputs": [
    {
     "name": "stdout",
     "output_type": "stream",
     "text": [
      "{\"commitInfo\":{\"timestamp\":1680967735061,\"operation\":\"DELETE\",\"operationParameters\":{\"predicate\":\"[\\\"(Age > 5L)\\\"]\"},\"readVersion\":1,\"isolationLevel\":\"Serializable\",\"isBlindAppend\":false,\"operationMetrics\":{\"numRemovedFiles\":\"1\",\"numCopiedRows\":\"0\",\"numAddedChangeFiles\":\"0\",\"executionTimeMs\":\"463\",\"numDeletedRows\":\"1\",\"scanTimeMs\":\"319\",\"numAddedFiles\":\"0\",\"rewriteTimeMs\":\"144\"},\"engineInfo\":\"Apache-Spark/3.3.2 Delta-Lake/2.2.0\",\"txnId\":\"f8c8badb-6f0a-49b6-bb5f-75751a3e277b\"}}\n",
      "{\"remove\":{\"path\":\"part-00007-e6fcc47a-f486-440b-a6f4-431b13203703-c000.snappy.parquet\",\"deletionTimestamp\":1680967735052,\"dataChange\":true,\"extendedFileMetadata\":true,\"partitionValues\":{},\"size\":708}}\n"
     ]
    }
   ],
   "source": [
    "%cat \"/tmp/deltatable1/_delta_log/00000000000000000002.json\""
   ]
  }
 ],
 "metadata": {
  "kernelspec": {
   "display_name": "Python 3",
   "language": "python",
   "name": "python3"
  },
  "language_info": {
   "codemirror_mode": {
    "name": "ipython",
    "version": 3
   },
   "file_extension": ".py",
   "mimetype": "text/x-python",
   "name": "python",
   "nbconvert_exporter": "python",
   "pygments_lexer": "ipython3",
   "version": "3.9.6"
  },
  "orig_nbformat": 4
 },
 "nbformat": 4,
 "nbformat_minor": 2
}
