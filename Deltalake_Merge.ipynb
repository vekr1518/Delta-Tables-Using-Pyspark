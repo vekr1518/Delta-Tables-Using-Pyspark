{
 "cells": [
  {
   "cell_type": "code",
   "execution_count": 7,
   "metadata": {},
   "outputs": [],
   "source": [
    "import pyspark\n",
    "from delta import *\n",
    "from pyspark.sql.types import StructType, StructField, DateType, IntegerType, FloatType\n",
    "from pyspark.sql.functions import to_date\n",
    "from datetime import date\n"
   ]
  },
  {
   "cell_type": "code",
   "execution_count": 2,
   "metadata": {},
   "outputs": [],
   "source": [
    "builder=(pyspark.sql.SparkSession.builder.appName(\"TimeTravel\")\n",
    "         .config(\"spark.sql.extensions\",\"io.delta.sql.DeltaSparkSessionExtension\")\n",
    "         .config(\"spark.sql.catalog.spark_catalog\",\"org.apache.spark.sql.delta.catalog.DeltaCatalog\")\n",
    "         )"
   ]
  },
  {
   "cell_type": "code",
   "execution_count": 3,
   "metadata": {},
   "outputs": [
    {
     "name": "stdout",
     "output_type": "stream",
     "text": [
      ":: loading settings :: url = jar:file:/Users/vk/Library/Python/3.9/lib/python/site-packages/pyspark/jars/ivy-2.5.1.jar!/org/apache/ivy/core/settings/ivysettings.xml\n"
     ]
    },
    {
     "name": "stderr",
     "output_type": "stream",
     "text": [
      "Ivy Default Cache set to: /Users/vk/.ivy2/cache\n",
      "The jars for the packages stored in: /Users/vk/.ivy2/jars\n",
      "io.delta#delta-core_2.12 added as a dependency\n",
      ":: resolving dependencies :: org.apache.spark#spark-submit-parent-b91d631a-7c8b-472d-a9bb-b82ce9df2270;1.0\n",
      "\tconfs: [default]\n",
      "\tfound io.delta#delta-core_2.12;2.3.0 in central\n",
      "\tfound io.delta#delta-storage;2.3.0 in central\n",
      "\tfound org.antlr#antlr4-runtime;4.8 in central\n",
      ":: resolution report :: resolve 91ms :: artifacts dl 3ms\n",
      "\t:: modules in use:\n",
      "\tio.delta#delta-core_2.12;2.3.0 from central in [default]\n",
      "\tio.delta#delta-storage;2.3.0 from central in [default]\n",
      "\torg.antlr#antlr4-runtime;4.8 from central in [default]\n",
      "\t---------------------------------------------------------------------\n",
      "\t|                  |            modules            ||   artifacts   |\n",
      "\t|       conf       | number| search|dwnlded|evicted|| number|dwnlded|\n",
      "\t---------------------------------------------------------------------\n",
      "\t|      default     |   3   |   0   |   0   |   0   ||   3   |   0   |\n",
      "\t---------------------------------------------------------------------\n",
      ":: retrieving :: org.apache.spark#spark-submit-parent-b91d631a-7c8b-472d-a9bb-b82ce9df2270\n",
      "\tconfs: [default]\n",
      "\t0 artifacts copied, 3 already retrieved (0kB/3ms)\n"
     ]
    },
    {
     "name": "stdout",
     "output_type": "stream",
     "text": [
      "23/05/04 09:09:05 WARN NativeCodeLoader: Unable to load native-hadoop library for your platform... using builtin-java classes where applicable\n"
     ]
    },
    {
     "name": "stderr",
     "output_type": "stream",
     "text": [
      "Setting default log level to \"WARN\".\n",
      "To adjust logging level use sc.setLogLevel(newLevel). For SparkR, use setLogLevel(newLevel).\n"
     ]
    }
   ],
   "source": [
    "spark=configure_spark_with_delta_pip(builder).getOrCreate()"
   ]
  },
  {
   "attachments": {},
   "cell_type": "markdown",
   "metadata": {},
   "source": [
    "# Delta Lake table called 'sales' that tracks the daily sales of products in your store."
   ]
  },
  {
   "cell_type": "code",
   "execution_count": 9,
   "metadata": {},
   "outputs": [],
   "source": [
    "\n",
    "schema = StructType([\n",
    "    StructField(\"date\", DateType(), True),\n",
    "    StructField(\"product_id\", IntegerType(), True),\n",
    "    StructField(\"quantity\", IntegerType(), True),\n",
    "    StructField(\"revenue\", FloatType(), True)\n",
    "])\n",
    "\n",
    "sample_data = [\n",
    "    (date(2023,1,1), 101, 5, 150.0),\n",
    "    (date(2023,1,1), 102, 3, 90.0),\n",
    "    (date(2023,1,2), 101, 7, 210.0),\n",
    "    (date(2023,1,2), 102, 2, 60.0)\n",
    "]\n",
    "\n",
    "sales_df = spark.createDataFrame(sample_data, schema=schema)"
   ]
  },
  {
   "cell_type": "code",
   "execution_count": 12,
   "metadata": {},
   "outputs": [
    {
     "name": "stdout",
     "output_type": "stream",
     "text": [
      "23/05/04 09:33:46 WARN package: Truncated the string representation of a plan since it was too large. This behavior can be adjusted by setting 'spark.sql.debug.maxToStringFields'.\n"
     ]
    }
   ],
   "source": [
    "#Write the data to Deltalake table\n",
    "sales_df.write \\\n",
    "    .format(\"delta\") \\\n",
    "    .mode(\"overwrite\") \\\n",
    "    .save(\"/tmp/sales\")\n"
   ]
  },
  {
   "cell_type": "code",
   "execution_count": 16,
   "metadata": {},
   "outputs": [
    {
     "name": "stdout",
     "output_type": "stream",
     "text": [
      "+----------+----------+--------+-------+\n",
      "|      date|product_id|quantity|revenue|\n",
      "+----------+----------+--------+-------+\n",
      "|2023-01-01|       101|       5|  150.0|\n",
      "|2023-01-02|       101|       7|  210.0|\n",
      "|2023-01-02|       102|       2|   60.0|\n",
      "|2023-01-01|       102|       3|   90.0|\n",
      "+----------+----------+--------+-------+\n",
      "\n"
     ]
    }
   ],
   "source": [
    "sales=spark.read.format(\"delta\").load('/tmp/sales')\n",
    "sales.show()"
   ]
  },
  {
   "attachments": {},
   "cell_type": "markdown",
   "metadata": {},
   "source": [
    "# We will now create an updated sales dataset with new and modified records"
   ]
  },
  {
   "cell_type": "code",
   "execution_count": 62,
   "metadata": {},
   "outputs": [
    {
     "name": "stdout",
     "output_type": "stream",
     "text": [
      "+----------+----------+--------+-------+\n",
      "|      date|product_id|quantity|revenue|\n",
      "+----------+----------+--------+-------+\n",
      "|2023-01-01|       101|       6|  180.0|\n",
      "|2023-01-01|       102|       4|  120.0|\n",
      "|2023-01-03|       101|       8|  240.0|\n",
      "|2023-01-03|       102|       5|  150.0|\n",
      "+----------+----------+--------+-------+\n",
      "\n"
     ]
    }
   ],
   "source": [
    "schema = StructType([\n",
    "    StructField(\"date\", DateType(), True),\n",
    "    StructField(\"product_id\", IntegerType(), True),\n",
    "    StructField(\"quantity\", IntegerType(), True),\n",
    "    StructField(\"revenue\", FloatType(), True)\n",
    "])\n",
    "\n",
    "updated_data = [\n",
    "    (date(2023, 1, 1), 101, 6, 180.0),  # Updated record\n",
    "    (date(2023, 1, 1), 102, 4, 120.0),  # Updated record\n",
    "    (date(2023, 1, 3), 101, 8, 240.0),  # New record\n",
    "    (date(2023, 1, 3), 102, 5, 150.0)   # New record\n",
    "]\n",
    "\n",
    "updated_sales_df = spark.createDataFrame(updated_data, schema=schema)\n",
    "\n",
    "# Save the DataFrame to a \n",
    "updated_sales_df.write \\\n",
    "    .option(\"dateFormat\",\"yyyy-MM-dd\")\\\n",
    "    .csv(\"updated_sales.csv\", mode=\"overwrite\", header=True)\n",
    "    \n",
    "#updated_sales_df.show()\n"
   ]
  },
  {
   "cell_type": "code",
   "execution_count": 18,
   "metadata": {},
   "outputs": [],
   "source": [
    "delta_table = DeltaTable.forPath(spark, \"/tmp/sales\")"
   ]
  },
  {
   "attachments": {},
   "cell_type": "markdown",
   "metadata": {},
   "source": [
    "# Now we receive an updated sales dataset containing new and modified sales records that you need to merge into the 'sales' table."
   ]
  },
  {
   "cell_type": "code",
   "execution_count": 67,
   "metadata": {},
   "outputs": [
    {
     "name": "stdout",
     "output_type": "stream",
     "text": [
      "23/05/04 11:27:08 WARN HintErrorLogger: Hint (strategy=broadcast) is not supported in the query: build left for full outer join.\n",
      "23/05/04 11:27:08 WARN HintErrorLogger: Hint (strategy=broadcast) is not supported in the query: build left for full outer join.\n",
      "23/05/04 11:27:08 WARN HintErrorLogger: Hint (strategy=broadcast) is not supported in the query: build left for full outer join.\n"
     ]
    }
   ],
   "source": [
    "# Read the target 'sales' table\n",
    "target = spark.read.format(\"delta\").load(\"/tmp/sales\")\n",
    "\n",
    "# Read the source dataset (assuming it's in CSV format)\n",
    "updated_sales_df_src = spark.read.csv(\"updated_sales.csv\", header=True, inferSchema=True)\n",
    "\n",
    "#Parse the date values, discarding the timestamp portion:\n",
    "# Define the date format pattern\n",
    "date_format = \"yyyy-MM-dd HH:mm:ss\"\n",
    "\n",
    "# Convert the date column to the correct format using the to_date function\n",
    "source = updated_sales_df_src.withColumn(\"date\", to_date(\"date\", date_format))\n",
    "\n",
    "# Create a Deltatable object \n",
    "delta_table = DeltaTable.forPath(spark, \"/tmp/sales\")\n",
    "\n",
    "# Define the Merge Condition\n",
    "merge_condition = \"target.date = source.date AND target.product_id = source.product_id\"\n",
    "\n",
    "# Perform the Merge Operation\n",
    "delta_table.alias(\"target\")\\\n",
    "    .merge(source.alias(\"source\"),merge_condition)\\\n",
    "    .whenMatchedUpdate(set={\"quantity\": \"source.quantity\", \"revenue\": \"source.revenue\"})\\\n",
    "    .whenNotMatchedInsert(values={\"date\": \"source.date\", \"product_id\": \"source.product_id\", \"quantity\": \"source.quantity\", \"revenue\": \"source.revenue\"}) \\\n",
    "    .execute()\n",
    "\n"
   ]
  },
  {
   "attachments": {},
   "cell_type": "markdown",
   "metadata": {},
   "source": [
    "# Verify the Merge Results"
   ]
  },
  {
   "cell_type": "code",
   "execution_count": 68,
   "metadata": {},
   "outputs": [
    {
     "name": "stdout",
     "output_type": "stream",
     "text": [
      "+----------+----------+--------+-------+\n",
      "|      date|product_id|quantity|revenue|\n",
      "+----------+----------+--------+-------+\n",
      "|2023-01-01|       101|       6|  180.0|\n",
      "|2023-01-01|       102|       4|  120.0|\n",
      "|2023-01-02|       101|       7|  210.0|\n",
      "|2023-01-02|       102|       2|   60.0|\n",
      "|2023-01-03|       101|       8|  240.0|\n",
      "|2023-01-03|       102|       5|  150.0|\n",
      "+----------+----------+--------+-------+\n",
      "\n"
     ]
    }
   ],
   "source": [
    "# Read the updated 'sales' table\n",
    "updated_sales = spark.read.format(\"delta\").load(\"/tmp/sales\")\n",
    "\n",
    "# Display the updated 'sales' table\n",
    "updated_sales.show()"
   ]
  }
 ],
 "metadata": {
  "kernelspec": {
   "display_name": "Python 3",
   "language": "python",
   "name": "python3"
  },
  "language_info": {
   "codemirror_mode": {
    "name": "ipython",
    "version": 3
   },
   "file_extension": ".py",
   "mimetype": "text/x-python",
   "name": "python",
   "nbconvert_exporter": "python",
   "pygments_lexer": "ipython3",
   "version": "3.9.6"
  },
  "orig_nbformat": 4
 },
 "nbformat": 4,
 "nbformat_minor": 2
}
